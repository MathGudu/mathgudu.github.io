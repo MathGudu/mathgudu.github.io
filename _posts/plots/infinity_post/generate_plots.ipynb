{
 "cells": [
  {
   "cell_type": "code",
   "execution_count": null,
   "metadata": {},
   "outputs": [
    {
     "name": "stderr",
     "output_type": "stream",
     "text": [
      "MovieWriter ffmpeg unavailable; using Pillow instead.\n"
     ]
    },
    {
     "name": "stderr",
     "output_type": "stream",
     "text": [
      "/tmp/ipykernel_1848524/4027371141.py:40: UserWarning:\n",
      "\n",
      "Attempting to set identical low and high xlims makes transformation singular; automatically expanding.\n",
      "\n"
     ]
    }
   ],
   "source": [
    "import numpy as np\n",
    "import matplotlib.pyplot as plt\n",
    "from matplotlib.animation import FuncAnimation\n",
    "\n",
    "\n",
    "def linear(x):\n",
    "    return x\n",
    "\n",
    "\n",
    "def quadratic(x):\n",
    "    return x**2\n",
    "\n",
    "\n",
    "def exponential(x):\n",
    "    return np.exp(x)\n",
    "\n",
    "\n",
    "x = np.linspace(0, 10, 1000)\n",
    "\n",
    "\n",
    "fig, ax = plt.subplots()\n",
    "ax.set_xlim(0, 1)\n",
    "ax.set_ylim(0, 1)\n",
    "(line1,) = ax.plot([], [], label=r\"$f(x) = x$\")\n",
    "(line2,) = ax.plot([], [], label=r\"$f(x) = x^2$\")\n",
    "(line3,) = ax.plot([], [], label=r\"$f(x) = e^x$\")\n",
    "ax.legend(loc=\"upper left\")\n",
    "\n",
    "\n",
    "def update(frame):\n",
    "\n",
    "    if frame == 0:\n",
    "        return line1, line2, line3\n",
    "\n",
    "    current_x = x[:frame]\n",
    "    current_linear = linear(current_x)\n",
    "    current_quadratic = quadratic(current_x)\n",
    "    current_exponential = exponential(current_x)\n",
    "\n",
    "    ax.set_xlim(0, min(1.1 * current_x.max(), x[-1]))\n",
    "    ax.set_ylim(\n",
    "        0,\n",
    "        1.1\n",
    "        * max(current_linear.max(), current_quadratic.max(), current_exponential.max()),\n",
    "    )\n",
    "\n",
    "    line1.set_data(current_x, current_linear)\n",
    "    line2.set_data(current_x, current_quadratic)\n",
    "    line3.set_data(current_x, current_exponential)\n",
    "\n",
    "    return line1, line2, line3\n",
    "\n",
    "\n",
    "ani = FuncAnimation(fig, update, frames=len(x), interval=50, blit=False)\n",
    "\n",
    "\n",
    "ani.save(\"function_growth.gif\", fps=60)"
   ]
  },
  {
   "cell_type": "code",
   "execution_count": null,
   "metadata": {},
   "outputs": [],
   "source": []
  }
 ],
 "metadata": {
  "kernelspec": {
   "display_name": "nlp",
   "language": "python",
   "name": "python3"
  },
  "language_info": {
   "codemirror_mode": {
    "name": "ipython",
    "version": 3
   },
   "file_extension": ".py",
   "mimetype": "text/x-python",
   "name": "python",
   "nbconvert_exporter": "python",
   "pygments_lexer": "ipython3",
   "version": "3.10.14"
  }
 },
 "nbformat": 4,
 "nbformat_minor": 2
}
